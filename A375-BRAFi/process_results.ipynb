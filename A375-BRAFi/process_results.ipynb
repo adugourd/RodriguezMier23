{
 "cells": [
  {
   "cell_type": "markdown",
   "id": "97723977-f90d-4d85-81a8-e12c6abb4554",
   "metadata": {},
   "source": [
    "# Analysis of results"
   ]
  },
  {
   "cell_type": "code",
   "execution_count": null,
   "id": "6a4dcd32-951c-48f8-a049-40ad53f70fef",
   "metadata": {},
   "outputs": [],
   "source": [
    "import os\n",
    "import zipfile\n",
    "import tempfile\n",
    "import pandas as pd\n",
    "import numpy as np\n",
    "import seaborn as sns\n",
    "import matplotlib.pyplot as plt\n",
    "import matplotlib.cm as cm\n",
    "import matplotlib.colors as mcolors\n",
    "normalize = mcolors.TwoSlopeNorm(vcenter=0, vmin=-1, vmax=1)"
   ]
  },
  {
   "cell_type": "code",
   "execution_count": null,
   "id": "c94e0bea-4efe-4e75-8096-c2665d33028b",
   "metadata": {},
   "outputs": [],
   "source": [
    "pth = os.path.join('preprocessR','brafi')\n",
    "path = os.path.join(pth, 'out')\n",
    "all_results = []\n",
    "all_results_edges = []\n",
    "ntop = 50\n",
    "max_samples = 50\n",
    "\n",
    "with tempfile.TemporaryDirectory() as tmpdir:\n",
    "    print('Decompressing results to', tmpdir)\n",
    "    with zipfile.ZipFile(f'{pth}/results.zip', 'r') as zr:\n",
    "        zr.extractall(tmpdir)\n",
    "    for subdir, dirs, files in os.walk(tmpdir):\n",
    "        for d in dirs:\n",
    "            current_path = os.path.join(subdir, d)\n",
    "            for file in os.listdir(current_path):\n",
    "                if len(all_results) >= max_samples:\n",
    "                    break\n",
    "                if file == 'nodes.csv':\n",
    "                    results_path = os.path.join(current_path, file)\n",
    "                    # Read the contents of the results.csv file into a DataFrame\n",
    "                    df = pd.read_csv(results_path, index_col=0)\n",
    "                    all_results.append(df)\n",
    "                if file == 'edges.csv':\n",
    "                    df_e = pd.read_csv(os.path.join(current_path, file), index_col=0)\n",
    "                    all_results_edges.append(df_e)\n",
    "len(all_results)"
   ]
  },
  {
   "cell_type": "code",
   "execution_count": null,
   "id": "39c7ddff",
   "metadata": {},
   "outputs": [],
   "source": [
    "df_tfs = pd.read_csv(f\"{pth}/tfs.tsv\", sep='\\t').pivot(index='source', columns='condition', values='score')\n",
    "df_tfs = pd.DataFrame(df_tfs.values, index=df_tfs.index, columns=[0.5, 1, 2, 3, 4, 8])\n",
    "df_tfs.head(5)"
   ]
  },
  {
   "cell_type": "code",
   "execution_count": null,
   "id": "7ab081cb",
   "metadata": {},
   "outputs": [],
   "source": [
    "df_tfs.sort_values(by=2.0).tail(10)"
   ]
  },
  {
   "cell_type": "code",
   "execution_count": null,
   "id": "9ac4e901-e45b-4d31-8a35-aa0d1d217d28",
   "metadata": {},
   "outputs": [],
   "source": [
    "measured = pd.read_csv(f'{pth}/data.tsv', sep='\\t').feature.unique()\n",
    "measured"
   ]
  },
  {
   "cell_type": "code",
   "execution_count": null,
   "id": "da8cc364-0b5c-4c6e-9a7e-ba34c79a4e3b",
   "metadata": {},
   "outputs": [],
   "source": [
    "df_avg = all_results[0].copy()\n",
    "idx = df_avg.index\n",
    "\n",
    "for df in all_results[1:]:\n",
    "    df_avg += df.loc[idx]\n",
    "df_avg /= len(all_results)\n",
    "df_avg.to_csv(f'{path}/avg.csv')\n",
    "df_avg"
   ]
  },
  {
   "cell_type": "code",
   "execution_count": null,
   "id": "8cd42301",
   "metadata": {},
   "outputs": [],
   "source": [
    "df_avg_e = all_results_edges[0].copy()\n",
    "df_avg_e_abs = all_results_edges[0].abs().copy()\n",
    "idx = df_avg_e.index\n",
    "cols = df_avg_e.columns\n",
    "\n",
    "for df in all_results_edges[1:]:\n",
    "    df_avg_e += df.loc[idx, cols]\n",
    "    df_avg_e_abs += df.loc[idx, cols].abs()\n",
    "df_avg_e /= len(all_results_edges)\n",
    "df_avg_e_abs /= len(all_results_edges)\n",
    "df_avg_e.to_csv(f'{path}/avg_edges.csv')\n",
    "df_avg_e_abs.to_csv(f'{path}/avg_edges_abs.csv')\n",
    "df_avg_e"
   ]
  },
  {
   "cell_type": "code",
   "execution_count": null,
   "id": "31877b6b-cdeb-4d04-95f3-d1e9f9a6a8aa",
   "metadata": {},
   "outputs": [],
   "source": [
    "# Across all networks, most common interaction w/E2F2 is through RB1, same for E2F1\n",
    "df_avg_e[df_avg_e.index.str.endswith('E2F2')]"
   ]
  },
  {
   "cell_type": "code",
   "execution_count": null,
   "id": "2535db0f-7813-4743-b9a1-909d1f9c9b04",
   "metadata": {},
   "outputs": [],
   "source": [
    "df_avg_e[df_avg_e.index.str.endswith('E2F1')].sort_values(by='t0.5_t0').head(5)"
   ]
  },
  {
   "cell_type": "code",
   "execution_count": null,
   "id": "16b1b8d6-9688-4d9c-9f45-edfd52f44547",
   "metadata": {},
   "outputs": [],
   "source": [
    "idx_only_pred = df_avg.index.difference(measured).difference(df_avg.index[df_avg.index.str.startswith('_')]).tolist()\n",
    "len(idx_only_pred)"
   ]
  },
  {
   "cell_type": "code",
   "execution_count": null,
   "id": "b02d30b0",
   "metadata": {},
   "outputs": [],
   "source": [
    "df_avg_nonempty = df_avg.loc[df_avg.abs().sum(axis=1) > 0]\n",
    "df_avg_corr = df_avg_nonempty.T.corr()"
   ]
  },
  {
   "cell_type": "code",
   "execution_count": null,
   "id": "f76fcef4",
   "metadata": {},
   "outputs": [],
   "source": [
    "def plot_corr_gene(gene, only_pred=True, only_measured=False, figsize=(20,8), threshold=0.25):\n",
    "    fig, ax = plt.subplots(figsize=figsize);\n",
    "    corrs = df_avg_corr.loc[gene].dropna().sort_values(ascending=False)\n",
    "    corrs = corrs[corrs.abs()>=threshold]\n",
    "    if only_pred:\n",
    "        corrs = corrs.loc[corrs.index.intersection(idx_only_pred)]\n",
    "    if only_measured:\n",
    "        corrs = corrs.loc[corrs.index.intersection(measured)]\n",
    "    corrs.plot.bar(ax=ax);  \n",
    "    return corrs.index, fig, ax\n",
    "    \n",
    "#plot_corr_gene('SOS1', threshold=0.60, only_pred=False, only_measured=False);"
   ]
  },
  {
   "cell_type": "code",
   "execution_count": null,
   "id": "5228100d",
   "metadata": {},
   "outputs": [],
   "source": [
    "df_egf_init_pathways = df_avg.loc[['EGR1', 'EGFR', 'MAPK1', 'MAPK3', 'ELK1', 'MAPK8', 'MAP2K1', 'MAP2K2', 'AKT1', 'AKT2', 'AKT3','E2F1','E2F2','E2F4']]\n",
    "sns.clustermap(df_egf_init_pathways, col_cluster=False, cmap=cm.RdBu_r, norm=normalize)\n",
    "df_egf_init_pathways.index.intersection(measured)"
   ]
  },
  {
   "cell_type": "code",
   "execution_count": null,
   "id": "717cb864-f580-4819-827b-b5dc0087ffbf",
   "metadata": {},
   "outputs": [],
   "source": [
    "idx_top = df_avg.loc[idx_only_pred, :].std(axis=1).sort_values(ascending=False).head(ntop).index.tolist()\n",
    "df_avg_only_pred = df_avg.loc[idx_top,:].copy()\n",
    "df_avg_only_pred.columns = [\"t(0.5)-t(0)\", \"t(1)-t(0.5)\", \"t(2)-t(1)\", \"t(3)-t(2)\", \"t(4)-t(3)\", \"t(8)-t(4)\"]\n",
    "df_avg_only_pred.columns.name = \"Conditions\"\n",
    "df_avg_only_pred.index.name = \"Average predicted activity for unobserved signaling proteins\"\n",
    "df_avg_only_pred.to_csv(f'{path}/pred_nodes_mean_top{ntop}_nsamples_{len(all_results)}.csv')\n",
    "df_avg.to_csv(f'{path}/pred_nodes_mean_nsamples_{len(all_results)}.csv')\n",
    "sns.clustermap(df_avg_only_pred, cmap=cm.RdBu_r, norm=normalize, yticklabels=True, col_cluster=False);\n",
    "plt.savefig(f'{path}/heatmap_activity_nodes_only_pred_top{ntop}_averaged_runs.pdf', format='pdf');"
   ]
  },
  {
   "cell_type": "code",
   "execution_count": null,
   "id": "dfb5e687-558d-4e99-b6a6-ab0927367ab9",
   "metadata": {},
   "outputs": [],
   "source": [
    "sns.clustermap(df_avg.loc[idx_top].T.corr(), cmap=cm.RdBu_r, norm=normalize, yticklabels=True, xticklabels=True);\n",
    "plt.savefig(f'{path}/heatmap_correlation_activity_nodes_only_pred_top{ntop}_averaged_runs.pdf', format='pdf');"
   ]
  },
  {
   "cell_type": "code",
   "execution_count": null,
   "id": "366198a6",
   "metadata": {},
   "outputs": [],
   "source": [
    "fig, ax = plt.subplots()\n",
    "df_avg_subset = df_avg.loc[['E2F1', 'E2F2', 'TP53', 'RB1', 'MAPK1', 'MAPK3', 'BRAF']].copy()\n",
    "df_avg_subset.columns = ['t(0.5)-t(0)', 't(1)-t(0.5)', 't(2)-t(1)', 't(3)-t(2)', 't(4)-t(3)', 't(8)-t(4)']\n",
    "df_avg_subset = df_avg_subset.T\n",
    "for col, style in zip(df_avg_subset.columns, ['-*', '-*', '-*', '--*', '--*', '--*', '--*', '--*']):\n",
    "    df_avg_subset[col].plot(style=style, ax=ax);\n",
    "ax.legend(loc='center left', bbox_to_anchor=(0.96, 0.5));\n",
    "ax.set_xlabel(\"Conditions (diff. timepoints)\");\n",
    "ax.set_ylabel(\"Average predicted activity\");\n",
    "plt.savefig(f\"{path}/avg_activity_e2f1_e2f2.pdf\", format=\"pdf\", bbox_inches='tight')\n",
    "#.legend();"
   ]
  }
 ],
 "metadata": {
  "kernelspec": {
   "display_name": "Python 3 (ipykernel)",
   "language": "python",
   "name": "python3"
  },
  "language_info": {
   "codemirror_mode": {
    "name": "ipython",
    "version": 3
   },
   "file_extension": ".py",
   "mimetype": "text/x-python",
   "name": "python",
   "nbconvert_exporter": "python",
   "pygments_lexer": "ipython3",
   "version": "3.10.4"
  }
 },
 "nbformat": 4,
 "nbformat_minor": 5
}
