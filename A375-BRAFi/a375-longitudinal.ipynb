{
 "cells": [
  {
   "cell_type": "code",
   "execution_count": null,
   "id": "1750716c-d41a-4df2-a975-3f44f67ad7c0",
   "metadata": {
    "tags": []
   },
   "outputs": [],
   "source": [
    "import time\n",
    "import os\n",
    "import pandas as pd\n",
    "import seaborn as sns\n",
    "import matplotlib.pyplot as plt\n",
    "import corneto as cnt\n",
    "import numpy as np\n",
    "import matplotlib.cm as cm\n",
    "import matplotlib.colors as mcolors\n",
    "normalize = mcolors.TwoSlopeNorm(vcenter=0, vmin=-1, vmax=1)\n",
    "cnt.__version__"
   ]
  },
  {
   "cell_type": "code",
   "execution_count": null,
   "id": "fad4b687",
   "metadata": {},
   "outputs": [],
   "source": [
    "# Differential time-points\n",
    "tps = ['t0.5_t0', 't1_t0.5', 't2_t1', 't3_t2', 't4_t3', 't8_t4']"
   ]
  },
  {
   "cell_type": "code",
   "execution_count": null,
   "id": "544a0924-28c3-48e4-a2f8-4d342b7822c4",
   "metadata": {},
   "outputs": [],
   "source": [
    "folder = 'preprocessR/brafi/'\n",
    "df_all_meta = pd.read_csv('experimental_metadata.tsv', sep='\\t')\n",
    "runid = str(int(time.time()))"
   ]
  },
  {
   "cell_type": "code",
   "execution_count": null,
   "id": "aed5d923-c7a2-446e-bb75-440685719fb7",
   "metadata": {},
   "outputs": [],
   "source": [
    "df_meta = pd.read_csv(f'{folder}/metadata.tsv', sep='\\t')\n",
    "df_meta.head(10)"
   ]
  },
  {
   "cell_type": "code",
   "execution_count": null,
   "id": "cbff8b65-65dd-4d4a-b3ef-914c4693545e",
   "metadata": {},
   "outputs": [],
   "source": [
    "# Make sure that changes in EGR1 from DE analysis of timepoints matches the ones in Gerosa et al paper\n",
    "df_tvals = pd.read_csv(f'{folder}/t_matrix_de.tsv', sep='\\t').set_index('rowname')\n",
    "df_tvals.loc[['EGR1','EGR2', 'EGR3'],:].T.plot();"
   ]
  },
  {
   "cell_type": "code",
   "execution_count": null,
   "id": "c724bf54-cb33-4c1c-87af-02e5e5770cb0",
   "metadata": {},
   "outputs": [],
   "source": [
    "# Import TF estimation from t-vals coming from DE analysis of timepoints (see preprocess.R script)\n",
    "df_tfs = pd.read_csv(f'{folder}/tfs.tsv',sep='\\t').pivot(index='source', columns='condition', values='score')\n",
    "df_tfs0 = df_tfs.copy()\n",
    "sns.clustermap(df_tfs.T.corr(), cmap=cm.RdBu_r, norm=normalize);"
   ]
  },
  {
   "cell_type": "code",
   "execution_count": null,
   "id": "33c46932-3d46-4506-83f4-06f28c278b6e",
   "metadata": {},
   "outputs": [],
   "source": [
    "# Show top TFs by variance across time points\n",
    "top_tf_idx = df_tfs.std(axis=1).sort_values().tail(50).index\n",
    "df_top_tfs = df_tfs.loc[top_tf_idx]\n",
    "tf_max = df_top_tfs.max().max()\n",
    "tf_min = df_top_tfs.min().min()\n",
    "sns.clustermap(df_top_tfs, cmap=cm.RdBu_r, norm=mcolors.TwoSlopeNorm(vcenter=0, vmin=tf_min, vmax=tf_max), yticklabels=True);\n",
    "plt.savefig(f'{folder}/heatmap_top_50_tfs.pdf', format='pdf');"
   ]
  },
  {
   "cell_type": "markdown",
   "id": "4ebb07a8-a806-47a8-a9c7-7ff3551f5051",
   "metadata": {},
   "source": [
    "## Data preparation"
   ]
  },
  {
   "cell_type": "code",
   "execution_count": null,
   "id": "75c85a71-27ae-4531-a4c0-8dfb0824d63f",
   "metadata": {},
   "outputs": [],
   "source": [
    "df_dataset = pd.read_csv(f'{folder}/data.tsv', sep='\\t')\n",
    "df_dataset.score.hist()"
   ]
  },
  {
   "cell_type": "code",
   "execution_count": null,
   "id": "0e5839f3",
   "metadata": {},
   "outputs": [],
   "source": [
    "tf_threshold = 2\n",
    "pval_tf_threshold = 0.05\n",
    "\n",
    "df_tfs0 = pd.read_csv(f'{folder}/tfs.tsv',sep='\\t')\n",
    "df_tfs0.loc[df_tfs0.p_value > pval_tf_threshold, 'score'] = 0\n",
    "\n",
    "df_measurements = df_tfs0[df_tfs0.score.abs() > 2]\n",
    "df_measurements = df_measurements.loc[:, ['condition', 'source', 'score']]\n",
    "df_measurements['type'] = 'measurement'\n",
    "df_measurements = df_measurements.loc[:, ['condition', 'type', 'source', 'score']].rename(columns={'source': 'feature'})\n",
    "df_measurements"
   ]
  },
  {
   "cell_type": "code",
   "execution_count": null,
   "id": "a3efc5ee",
   "metadata": {},
   "outputs": [],
   "source": [
    "# Change dataset by the new measurements\n",
    "df_dataset = pd.concat([df_dataset.head(6), df_measurements])\n",
    "df_dataset.score.describe()"
   ]
  },
  {
   "cell_type": "code",
   "execution_count": null,
   "id": "5a325b7e-b101-4e01-8d31-146f7b8b0bc3",
   "metadata": {},
   "outputs": [],
   "source": [
    "df_wide = df_dataset.pivot(index='feature', columns='condition', values='score').fillna(0)\n",
    "df_wide"
   ]
  },
  {
   "cell_type": "code",
   "execution_count": null,
   "id": "dd327513-cfcb-4d55-a829-ca92c1f48eeb",
   "metadata": {},
   "outputs": [],
   "source": [
    "fig, ax = plt.subplots(figsize=(8, 6))\n",
    "top_changing_tfs = df_wide.std(axis=1).sort_values(ascending=False).head(30).index\n",
    "df_wide.loc[top_changing_tfs].T.plot(ax=ax);\n",
    "plt.legend(loc='center left', bbox_to_anchor=(1.0, 0.5))"
   ]
  },
  {
   "cell_type": "code",
   "execution_count": null,
   "id": "e007c73a-0218-4ab8-bd1a-ec66b01486e3",
   "metadata": {},
   "outputs": [],
   "source": [
    "df_pkn = pd.read_csv('pkn.tsv', sep='\\t')"
   ]
  },
  {
   "cell_type": "code",
   "execution_count": null,
   "id": "be2450cf-6eda-4bbf-99f3-de89ce872e90",
   "metadata": {},
   "outputs": [],
   "source": [
    "d = dict()\n",
    "tps = ['t0.5_t0', 't1_t0.5', 't2_t1', 't3_t2', 't4_t3', 't8_t4']\n",
    "\n",
    "for t in tps:\n",
    "    k = 'tp_'+ str(t).replace('.','')\n",
    "    d_t = dict()\n",
    "    d[k] = d_t\n",
    "    for tf_name, score in df_wide.loc[:,t].iteritems():\n",
    "        if tf_name == 'EGFR':\n",
    "            d_t[tf_name] = ('P', score)\n",
    "        else:\n",
    "            if abs(score) >= 1.0:\n",
    "                d_t[tf_name] = ('M', score)\n",
    "len(d)"
   ]
  },
  {
   "cell_type": "code",
   "execution_count": null,
   "id": "c0df33fa-6ae5-49cb-87b4-1c08634b90b4",
   "metadata": {},
   "outputs": [],
   "source": [
    "measured = set()\n",
    "for k, v in d.items():\n",
    "    measured |= set(v.keys())\n",
    "len(measured)"
   ]
  },
  {
   "cell_type": "markdown",
   "id": "42dd901c-9ab8-4fe3-bf42-2ea540351191",
   "metadata": {},
   "source": [
    "## Sequential fitting signaling networks"
   ]
  },
  {
   "cell_type": "code",
   "execution_count": null,
   "id": "aeac3ea1-210e-4bb5-9f5e-4c9c7c5b3927",
   "metadata": {},
   "outputs": [],
   "source": [
    "from corneto import Graph, signflow, signflow_constraints, default_sign_loss, hamming_loss, create_flow_graph\n",
    "pkn = cnt.import_sif(\"pkn.tsv\", delimiter='\\t', has_header=True)\n",
    "network = Graph.import_network(pkn)"
   ]
  },
  {
   "cell_type": "code",
   "execution_count": null,
   "id": "6da7431c-5964-4157-91e9-4ed0b001959a",
   "metadata": {},
   "outputs": [],
   "source": [
    "t0 = {'CTP': d['tp_t05_t0']}\n",
    "t1 = {'CTP': d['tp_t1_t05']}\n",
    "t2 = {'CTP': d['tp_t2_t1']}\n",
    "t3 = {'CTP': d['tp_t3_t2']}\n",
    "t4 = {'CTP': d['tp_t4_t3']}\n",
    "t5 = {'CTP': d['tp_t8_t4']}\n",
    "timepoints = [t0, t1, t2, t3, t4, t5]\n",
    "# We provide conditions_as_timepoints to indicate the method to not create multiple variables for each node per condition\n",
    "# since we're going to solve this sequentially\n",
    "g = create_flow_graph(network, d, conditions_as_timepoints=True)"
   ]
  },
  {
   "cell_type": "code",
   "execution_count": null,
   "id": "ce601520-4a2c-42a2-bf12-63fa98a4d150",
   "metadata": {},
   "outputs": [],
   "source": [
    "%%capture cap --no-stderr\n",
    "\n",
    "reg_penalty=0.01\n",
    "dist_penalty=0.1\n",
    "max_time=650\n",
    "gap=0.02\n",
    "norel=600\n",
    "use_last_diff = False # this is wrong, set to false\n",
    "sol_edges, sol_nodes = [], []\n",
    "flow_values = []\n",
    "prev_sol = None\n",
    "\n",
    "# This is an example of how to use a custom optimization loop.\n",
    "# The main problem based on network flow and signal propagation is created with signflow_constraints.\n",
    "# This creates the main set of constraints to define the problem, without any objective function to optimize\n",
    "base_problem = signflow_constraints(g)\n",
    "\n",
    "\n",
    "print(folder)\n",
    "print(\"Reg:\", reg_penalty, \"Dist:\", dist_penalty, \"Gap:\", gap, \"NoRelHeurTime:\", norel, \"MaxTime:\", max_time)\n",
    "\n",
    "for t in timepoints:\n",
    "    # We add the objective function to the base problem\n",
    "    p = base_problem + default_sign_loss(g, t, base_problem, l0_penalty_reaction=reg_penalty)\n",
    "    curr_sol = p.symbols['reaction_sends_activation_CTP'] + p.symbols['reaction_sends_inhibition_CTP']\n",
    "    # If we have the solution for t-1, we use the solution to add a penalty on hamming distance\n",
    "    if prev_sol is not None:\n",
    "        p += hamming_loss(prev_sol, curr_sol, penalty=dist_penalty)\n",
    "    p.solve(solver='GUROBI', verbosity=1, max_seconds=max_time, MIPGap=gap, NoRelHeurTime=norel);\n",
    "    if prev_sol is not None:\n",
    "        diff = abs(curr_sol.value - prev_sol)\n",
    "        print(\"hamming distance:\", sum(diff))\n",
    "    for o in p.objectives:\n",
    "        print(\"obj:\", o.value)\n",
    "    if use_last_diff and prev_sol is not None:\n",
    "        prev_sol = np.array(diff)\n",
    "    else:\n",
    "        prev_sol = np.abs(np.array(curr_sol.value))\n",
    "    # Store solution (edge values and node values)\n",
    "    edge_vals = p.symbols['reaction_sends_activation_CTP'].value - p.symbols['reaction_sends_inhibition_CTP'].value\n",
    "    node_vals = p.symbols['species_activated_CTP'].value - p.symbols['species_inhibited_CTP'].value\n",
    "    flow_values.append(pd.DataFrame(p.symbols['_flow_rxn_ipos'].value, index=g.reactions))\n",
    "    sol_edges.append(pd.DataFrame(edge_vals, index=g.reactions))\n",
    "    sol_nodes.append(pd.DataFrame(node_vals, index=g.species))"
   ]
  },
  {
   "cell_type": "code",
   "execution_count": null,
   "id": "4983b77b-a10f-4110-bfa7-42906d25b682",
   "metadata": {},
   "outputs": [],
   "source": [
    "os.makedirs(f'{folder}/runs/{runid}', exist_ok=True)\n",
    "with open(f'{folder}/runs/{runid}/output.txt', 'w') as f:\n",
    "    f.write(str(cap))"
   ]
  },
  {
   "cell_type": "code",
   "execution_count": null,
   "id": "5245dd72-f996-432f-867a-41f730c6eefd",
   "metadata": {},
   "outputs": [],
   "source": [
    "df_edges = pd.concat(sol_edges, axis=1)"
   ]
  },
  {
   "cell_type": "code",
   "execution_count": null,
   "id": "b107095e-9ae1-43b2-b81e-7f6377ef8082",
   "metadata": {},
   "outputs": [],
   "source": [
    "ntop = 100"
   ]
  },
  {
   "cell_type": "code",
   "execution_count": null,
   "id": "18d38387-9fcc-4e01-ac1e-595bd8064ece",
   "metadata": {},
   "outputs": [],
   "source": [
    "df_edges.loc[df_edges.std(axis=1).sort_values(ascending=False).head(ntop).index]"
   ]
  },
  {
   "cell_type": "code",
   "execution_count": null,
   "id": "2c502e8b-346e-4edf-b0b3-bdf1a972ad2a",
   "metadata": {},
   "outputs": [],
   "source": [
    "df_nodes = pd.concat(sol_nodes, axis=1)\n",
    "df_top_nodes = df_nodes.loc[df_nodes.std(axis=1).sort_values(ascending=False).head(ntop).index]\n",
    "sns.clustermap(pd.DataFrame(df_top_nodes.values, columns=tps, index=df_top_nodes.index), cmap=cm.RdBu_r, norm=normalize)\n",
    "plt.savefig(f'{folder}/runs/{runid}/heatmap_activity_nodes_top{ntop}.pdf', format='pdf')"
   ]
  },
  {
   "cell_type": "code",
   "execution_count": null,
   "id": "ecdc1685-3c7d-4480-91a2-a9ac0be91005",
   "metadata": {},
   "outputs": [],
   "source": [
    "pd.DataFrame(df_edges.values, index=df_edges.index, columns=tps).to_csv(f'{folder}/runs/{runid}/edges.csv')\n",
    "pd.DataFrame(df_nodes.values, index=df_nodes.index, columns=tps).to_csv(f'{folder}/runs/{runid}/nodes.csv')"
   ]
  },
  {
   "cell_type": "code",
   "execution_count": null,
   "id": "3e69d0a6-1ca6-4cf5-af72-a27f23038266",
   "metadata": {},
   "outputs": [],
   "source": [
    "exclude_nodes = set(df_nodes.index[df_nodes.index.str.startswith('_')].tolist()) | set(df_nodes.index[df_nodes.index.str.len()>20].tolist()) | measured\n",
    "df_nodes_pred = df_nodes.loc[df_nodes.index.difference(exclude_nodes)]\n",
    "pd.DataFrame(df_nodes_pred.values, index=df_nodes_pred.index, columns=tps).to_csv(f'{folder}/runs/{runid}/nodes_pred.csv')\n",
    "df_top_nodes = df_nodes_pred.loc[df_nodes_pred.std(axis=1).sort_values(ascending=False).head(ntop).index]\n",
    "df_top_nodes = pd.DataFrame(df_top_nodes.values, index=df_top_nodes.index, columns=tps)"
   ]
  },
  {
   "cell_type": "code",
   "execution_count": null,
   "id": "c96fb630-6ced-47c4-a55d-b2bacdd827cb",
   "metadata": {},
   "outputs": [],
   "source": [
    "sns.clustermap(df_top_nodes, cmap=cm.RdBu_r, norm=normalize);\n",
    "plt.savefig(f'{folder}/runs/{runid}/heatmap_activity_nodes_pred_top{ntop}.pdf', format='pdf')"
   ]
  }
 ],
 "metadata": {
  "kernelspec": {
   "display_name": "Python 3 (ipykernel)",
   "language": "python",
   "name": "python3"
  },
  "language_info": {
   "codemirror_mode": {
    "name": "ipython",
    "version": 3
   },
   "file_extension": ".py",
   "mimetype": "text/x-python",
   "name": "python",
   "nbconvert_exporter": "python",
   "pygments_lexer": "ipython3",
   "version": "3.10.4"
  }
 },
 "nbformat": 4,
 "nbformat_minor": 5
}
